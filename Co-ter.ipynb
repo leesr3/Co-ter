{
 "cells": [
  {
   "cell_type": "markdown",
   "metadata": {},
   "source": [
    "# 데이터 수집을 위한 크롤링 (유튜브 댓글 가져오기)"
   ]
  },
  {
   "cell_type": "code",
   "execution_count": 62,
   "metadata": {},
   "outputs": [],
   "source": [
    "from selenium import webdriver\n",
    "from selenium.webdriver.common.keys import Keys\n",
    "from bs4 import BeautifulSoup\n",
    "from urllib.request import urlopen\n",
    "import re\n",
    "import pandas as pd\n",
    "import numpy as np\n",
    "import nltk\n",
    "import seaborn as sns\n",
    "from nltk.corpus import stopwords\n",
    "from sklearn.feature_extraction.text import CountVectorizer\n",
    "import string\n",
    "import time"
   ]
  },
  {
   "cell_type": "code",
   "execution_count": 9,
   "metadata": {},
   "outputs": [],
   "source": [
    "# 웹드라이버 로드(chrome 사용)\n",
    "# 웹드라이버 설치 후, 본인 경로로 수정.\n",
    "driver = webdriver.Chrome(\"D:\\python\\chromedriver\")"
   ]
  },
  {
   "cell_type": "code",
   "execution_count": 10,
   "metadata": {},
   "outputs": [],
   "source": [
    "# 로드할 페이지 URL\n",
    "driver.get('https://youtu.be/clv5xdBr7Tk')\n",
    "time.sleep(1)"
   ]
  },
  {
   "cell_type": "code",
   "execution_count": 24,
   "metadata": {},
   "outputs": [
    {
     "name": "stdout",
     "output_type": "stream",
     "text": [
      "Video Title: Morissette 모리셋 - Akin Ka Na Lang Vocal Review 보컬리뷰 & Reaction 리액션\n",
      "\n",
      "\n"
     ]
    }
   ],
   "source": [
    "#마우스 커서 위치 지정. 스크롤링을 위해 마우스커서를 바디에 위치\n",
    "body = driver.find_element_by_tag_name(\"body\")\n",
    "html = driver.page_source\n",
    "soup = BeautifulSoup(html, \"html.parser\")\n",
    "\n",
    "# 제목 가져오기\n",
    "title = driver.find_element_by_xpath('//*[@id=\"container\"]/h1/yt-formatted-string').text\n",
    "print(\"Video Title: \" + title + '\\n\\n')"
   ]
  },
  {
   "cell_type": "code",
   "execution_count": 25,
   "metadata": {},
   "outputs": [],
   "source": [
    "# 전체 댓글을 수집하기 위해 스크롤바를 최하단에 위치\n",
    "\n",
    "#페이지를 내리고 싶은 회수 지정\n",
    "num_of_end = 0\n",
    "\n",
    "while num_of_end:\n",
    "    body.send_keys(Keys.END)\n",
    "    time.sleep(1)\n",
    "    num_of_pagedowns -= 1    "
   ]
  },
  {
   "cell_type": "code",
   "execution_count": 27,
   "metadata": {},
   "outputs": [],
   "source": [
    "# 댓글 내용 (html 태그를 통해 추출)\n",
    "comment = soup.find_all('yt-formatted-string', {'id':'content-text'})\n",
    "\n",
    "comment_list = []\n",
    "for c in comment:\n",
    "    comment_list.append(c.get_text().strip())\n",
    "\n",
    "# 댓글 작성자 id\n",
    "user_id = soup.find_all('a', {'id':'author-text'})\n",
    "id_list = []\n",
    "for u in user_id:\n",
    "    id_list.append(u.get_text().strip())\n",
    "    \n",
    "# 댓글에 좋아요 개수\n",
    "like = soup.find_all('span', {'id':'vote-count-left'})\n",
    "\n",
    "like_list_bf = []\n",
    "like_list = []\n",
    "for l in like:\n",
    "    like_list_bf.append(l.get_text().strip())\n",
    "\n",
    "#비워져 있는 값 0으로 대치\n",
    "for bf in like_list_bf :\n",
    "    if bf =='' :\n",
    "        like_list.append(0)\n",
    "    else :\n",
    "        like_list.append(bf)"
   ]
  },
  {
   "cell_type": "code",
   "execution_count": 29,
   "metadata": {},
   "outputs": [
    {
     "name": "stdout",
     "output_type": "stream",
     "text": [
      "vocal training in the philippines?\n",
      "\n",
      "well... we have karaoke in almost every houses..\n",
      "\n",
      "Actually, 98% of Filipinos can sing. Unfortunately I belong in the 2%. 😂\n",
      "\n",
      "i guess these Philippines vocal training system is one set of karaoke at everyone home..\n",
      "\n",
      "filipinos be like: what is vocal training? \n",
      "lmao\n",
      "\n",
      "I noticed most of the korean reactors don’t know what’s a whistle is 😂 they keep on calling it the dolphin sound\n",
      "\n",
      "You have just heard perfection.  If you listen to too much of her singing, her voice will spoil you to the point that you will not be content listening to human singers.  Here are more, most excellent Morissette Wish bus radio performances (while she is sitting down, singing live, on a radio station, in a bus!) that are well worth reacting to (a massive understatement).  I highly recommend these Wish bus performances (because they are intimidatingly perfect!):\r\n",
      "\"Rise Up\"\n",
      "\"Never Enough\"\r\n",
      "\"Secret Love Song\"\n",
      "\"You And I\"\r\n",
      "\"Naririnig Mo Ba\"\r\n",
      "\"Panaginip\"\r\n",
      "These are fantastic, flawless performances demonstrating different aspects of her talent (guaranteed).\n",
      "\n",
      "if Indian is Best in Dancing,Vietnam is Best in Fightng ...will Philippine is Best in singing...\n",
      "\n",
      "I think you need to review her Resignation cover of Ms. Lee Yong Hyun\n",
      "\n",
      "Every singer here in the philippine they're first vocal teacher is a Karaoke machine i think thats why some filipino is so good in singing even without pro singer teacher!\n",
      "\n",
      "as far as i know, there's no formal training happened to morissete. she has a natural born voice that everyone envied to her, even me. i hope you listen to her other songs ❤️\n",
      "\n",
      "“Salamat po” 😭💕☺️ I like how he added the “po” for respect\n",
      "\n",
      "90-95 percent in the Philippines can sing by the way.  \n",
      "just saying 😇\n",
      "\n",
      "Came here for mori. 'Rise up' next. 🙂 or 'I believe' by Darren or Kz Tandingan Rolling in the deep.\n",
      "\n",
      "“Excellent vocalist with no faults”😍😘🥰\n",
      "\n",
      "There is a korean version cover by Bora Kim also so that u can understand whats the meaning of the song...\n",
      "\n",
      "\"Is there a vocal training system in the Philippines?\" \n",
      "KARAOKE\n",
      "\n",
      "7:30 - Is there a vocal training system in Philippines?\n",
      "Me: Yeah, karaoke!!! Even people who cant sing or shouldnt be singing belts out My Way or Greatest Love Of All just to annoy their neighbors! True Story!! Haha! =)\n",
      "\n",
      "Thank for the reaction and vocal review. 🇵🇭🇰🇷 Hope you can also try her Resignation rendetion from Big Mama Lee Hyo Yeon 💗\n",
      "\n",
      "Please make a reaction to morisette amon songs titled: 1, Naririnig mo ba 2. Diamante\n",
      "\n",
      "It's really good to see Koreans appreciating Philippine Singers ❤❤❤. I'm from Philippines 🇵🇭\n",
      "\n"
     ]
    }
   ],
   "source": [
    "# 가져온 댓글 리스트 확인\n",
    "for c in comment_list:\n",
    "    print(c + '\\n')"
   ]
  },
  {
   "cell_type": "code",
   "execution_count": 31,
   "metadata": {},
   "outputs": [
    {
     "name": "stdout",
     "output_type": "stream",
     "text": [
      "20\n",
      "20\n",
      "20\n"
     ]
    }
   ],
   "source": [
    "# dataframe을 만들기 위해 크기가 일정한지 확인\n",
    "print(len(comment_list))\n",
    "print(len(id_list))\n",
    "print(len(like_list))"
   ]
  },
  {
   "cell_type": "code",
   "execution_count": 32,
   "metadata": {
    "scrolled": true
   },
   "outputs": [],
   "source": [
    "# csv로 저장 시 깨짐 방지를 위한 전처리(이모지-유니코드, 아랍문자 등 제거)\n",
    "s_filter = re.compile(\"[^\"\n",
    "                        \"a-zA-Z\"      #English\n",
    "                        \"ㄱ-ㅣ가-힣\"  #Korean\n",
    "                        \"0-9\"         #Number\n",
    "                        \"\\{\\}\\[\\]\\/?.,;:|\\)*~`!^\\-_+<>@\\#$%&\\\\\\=\\(\\'\\\"\" #특수기호\n",
    "                        \"\\ \" #space\n",
    "                        \"]+\")\n",
    "# 댓글에 대한 전처리\n",
    "comment_result = []\n",
    "for i in comment_list:\n",
    "    i = re.sub(s_filter,\"\",i)\n",
    "    i = ''.join(i)\n",
    "    comment_result.append(i)"
   ]
  },
  {
   "cell_type": "code",
   "execution_count": 33,
   "metadata": {},
   "outputs": [],
   "source": [
    "# 아이디에 아랍문자 사용이 가능하기 때문에 아이디도 전처리 필요\n",
    "id_result = []\n",
    "for i in id_list:\n",
    "    i = re.sub(s_filter,\"\",i)\n",
    "    i = ''.join(i)\n",
    "    id_result.append(i)"
   ]
  },
  {
   "cell_type": "code",
   "execution_count": 34,
   "metadata": {},
   "outputs": [
    {
     "data": {
      "text/html": [
       "<div>\n",
       "<style scoped>\n",
       "    .dataframe tbody tr th:only-of-type {\n",
       "        vertical-align: middle;\n",
       "    }\n",
       "\n",
       "    .dataframe tbody tr th {\n",
       "        vertical-align: top;\n",
       "    }\n",
       "\n",
       "    .dataframe thead th {\n",
       "        text-align: right;\n",
       "    }\n",
       "</style>\n",
       "<table border=\"1\" class=\"dataframe\">\n",
       "  <thead>\n",
       "    <tr style=\"text-align: right;\">\n",
       "      <th></th>\n",
       "      <th>id</th>\n",
       "      <th>comment</th>\n",
       "      <th>like</th>\n",
       "      <th>text_length</th>\n",
       "    </tr>\n",
       "  </thead>\n",
       "  <tbody>\n",
       "    <tr>\n",
       "      <th>0</th>\n",
       "      <td>Jasmine Millet</td>\n",
       "      <td>vocal training in the philippines?well... we h...</td>\n",
       "      <td>515</td>\n",
       "      <td>82</td>\n",
       "    </tr>\n",
       "    <tr>\n",
       "      <th>1</th>\n",
       "      <td>Ruth Balonkita</td>\n",
       "      <td>Actually, 98% of Filipinos can sing. Unfortuna...</td>\n",
       "      <td>274</td>\n",
       "      <td>71</td>\n",
       "    </tr>\n",
       "    <tr>\n",
       "      <th>2</th>\n",
       "      <td>Mohd Hafiz</td>\n",
       "      <td>i guess these Philippines vocal training syste...</td>\n",
       "      <td>224</td>\n",
       "      <td>88</td>\n",
       "    </tr>\n",
       "    <tr>\n",
       "      <th>3</th>\n",
       "      <td>The Duh</td>\n",
       "      <td>filipinos be like: what is vocal training? lmao</td>\n",
       "      <td>29</td>\n",
       "      <td>47</td>\n",
       "    </tr>\n",
       "    <tr>\n",
       "      <th>4</th>\n",
       "      <td>Jhopes Bae ph army</td>\n",
       "      <td>I noticed most of the korean reactors dont kno...</td>\n",
       "      <td>96</td>\n",
       "      <td>109</td>\n",
       "    </tr>\n",
       "  </tbody>\n",
       "</table>\n",
       "</div>"
      ],
      "text/plain": [
       "                   id                                            comment like  \\\n",
       "0      Jasmine Millet  vocal training in the philippines?well... we h...  515   \n",
       "1      Ruth Balonkita  Actually, 98% of Filipinos can sing. Unfortuna...  274   \n",
       "2          Mohd Hafiz  i guess these Philippines vocal training syste...  224   \n",
       "3             The Duh    filipinos be like: what is vocal training? lmao   29   \n",
       "4  Jhopes Bae ph army  I noticed most of the korean reactors dont kno...   96   \n",
       "\n",
       "   text_length  \n",
       "0           82  \n",
       "1           71  \n",
       "2           88  \n",
       "3           47  \n",
       "4          109  "
      ]
     },
     "execution_count": 34,
     "metadata": {},
     "output_type": "execute_result"
    }
   ],
   "source": [
    "# 가져온 각각의 data를 하나의  dataframe으로 제작\n",
    "DB = pd.DataFrame({'id' : id_result,'comment' : comment_result,'like' : like_list})\n",
    "\n",
    "# 분석을 위해 댓글 길이 추가\n",
    "DB['text_length'] = DB['comment'].apply(len)\n",
    "\n",
    "# DB 확인\n",
    "DB.head()"
   ]
  },
  {
   "cell_type": "code",
   "execution_count": 35,
   "metadata": {},
   "outputs": [],
   "source": [
    "# csv 파일로 export\n",
    "DB.to_csv(\"Data.set_RAW.csv\",encoding=\"euc-kr\")"
   ]
  },
  {
   "cell_type": "markdown",
   "metadata": {},
   "source": [
    "# 데이터 분석"
   ]
  },
  {
   "cell_type": "code",
   "execution_count": 102,
   "metadata": {},
   "outputs": [
    {
     "data": {
      "text/plain": [
       "(1176, 6)"
      ]
     },
     "execution_count": 102,
     "metadata": {},
     "output_type": "execute_result"
    }
   ],
   "source": [
    "#학습데이터는 크롤링으로 얻은 데이터를 레이블링 한 데이터를 사용한다.\n",
    "\n",
    "# 학습 데이터 로드, 첫 행은 헤더\n",
    "SNTV_DB = pd.read_csv('data_set.csv', header=0)\n",
    "\n",
    "# 행, 열 갯수 확인\n",
    "SNTV_DB.shape"
   ]
  },
  {
   "cell_type": "code",
   "execution_count": 103,
   "metadata": {},
   "outputs": [
    {
     "data": {
      "text/plain": [
       "(1169, 6)"
      ]
     },
     "execution_count": 103,
     "metadata": {},
     "output_type": "execute_result"
    }
   ],
   "source": [
    "# 결측, 없는 데이터가 있는 행 삭제\n",
    "SNTV_DB = SNTV_DB.dropna(axis=0)\n",
    "\n",
    "# 행, 열 갯수 재확인\n",
    "SNTV_DB.shape"
   ]
  },
  {
   "cell_type": "code",
   "execution_count": 43,
   "metadata": {},
   "outputs": [
    {
     "name": "stdout",
     "output_type": "stream",
     "text": [
      "<class 'pandas.core.frame.DataFrame'>\n",
      "Int64Index: 1169 entries, 0 to 1175\n",
      "Data columns (total 6 columns):\n",
      "id             1169 non-null object\n",
      "comment        1169 non-null object\n",
      "like           1169 non-null int64\n",
      "text length    1169 non-null int64\n",
      "evaluation     1169 non-null object\n",
      "request        1169 non-null object\n",
      "dtypes: int64(2), object(4)\n",
      "memory usage: 63.9+ KB\n"
     ]
    }
   ],
   "source": [
    "# 구조 확인\n",
    "SNTV_DB.info()"
   ]
  },
  {
   "cell_type": "code",
   "execution_count": 116,
   "metadata": {},
   "outputs": [
    {
     "name": "stdout",
     "output_type": "stream",
     "text": [
      "<class 'pandas.core.frame.DataFrame'>\n",
      "Int64Index: 1169 entries, 0 to 1175\n",
      "Data columns (total 6 columns):\n",
      "id             1169 non-null object\n",
      "comment        1169 non-null object\n",
      "like           1169 non-null int64\n",
      "text length    1169 non-null int64\n",
      "evaluation     1169 non-null int64\n",
      "request        1169 non-null int64\n",
      "dtypes: int64(4), object(2)\n",
      "memory usage: 63.9+ KB\n"
     ]
    }
   ],
   "source": [
    "# 자료구조 확인\n",
    "SNTV_DB_test.info()"
   ]
  },
  {
   "cell_type": "code",
   "execution_count": 104,
   "metadata": {},
   "outputs": [],
   "source": [
    "# 분석 값 설정 (X= 댓글, y=평가, z=요청)\n",
    "X = SNTV_DB['comment']\n",
    "y = SNTV_DB['evaluation']\n",
    "z = SNTV_DB['request']"
   ]
  },
  {
   "cell_type": "code",
   "execution_count": 49,
   "metadata": {},
   "outputs": [
    {
     "data": {
      "text/plain": [
       "'In a Filipino\\'s perspective, this kind of music is a little new to us as well. In their name SB19, SB means Sound Break which shows their advocacy of breaking the stereotypes of what the usual Filipino music is and also to show that Filipinos could also have a talent as to what Kpop Idols have. As to what they\\'re also saying, they are still promoting PPop ( Filipino Pop Music) as they are using Filipino as a language for the lyrics. If you want to hear more of the power of their vocals you can try to listen and review to their debut song  \"Tilaluha\".'"
      ]
     },
     "execution_count": 49,
     "metadata": {},
     "output_type": "execute_result"
    }
   ],
   "source": [
    "# 확인\n",
    "X[0]"
   ]
  },
  {
   "cell_type": "code",
   "execution_count": 50,
   "metadata": {},
   "outputs": [
    {
     "data": {
      "text/plain": [
       "'SS'"
      ]
     },
     "execution_count": 50,
     "metadata": {},
     "output_type": "execute_result"
    }
   ],
   "source": [
    "# X[0]에 대한 평가 데이터\n",
    "y[0]"
   ]
  },
  {
   "cell_type": "markdown",
   "metadata": {},
   "source": [
    "# 학습 전 데이터를 이용한 분석"
   ]
  },
  {
   "cell_type": "code",
   "execution_count": 52,
   "metadata": {},
   "outputs": [
    {
     "data": {
      "text/plain": [
       "<matplotlib.axes._subplots.AxesSubplot at 0x2a62e918e10>"
      ]
     },
     "execution_count": 52,
     "metadata": {},
     "output_type": "execute_result"
    },
    {
     "data": {
      "image/png": "[encoded data removed]",
      "text/plain": [
       "<Figure size 432x288 with 1 Axes>"
      ]
     },
     "metadata": {
      "needs_background": "light"
     },
     "output_type": "display_data"
    }
   ],
   "source": [
    "# 댓글 길이와 평가(긍/부정)와의 상관관계 시각화\n",
    "sns.boxplot(x='evaluation', y='text length', data=SNTV_DB)"
   ]
  },
  {
   "cell_type": "code",
   "execution_count": 53,
   "metadata": {},
   "outputs": [],
   "source": [
    "# 부정적 평가(0)를 하는 사람은 댓글을 길게 달지 않는다."
   ]
  },
  {
   "cell_type": "code",
   "execution_count": 55,
   "metadata": {},
   "outputs": [
    {
     "data": {
      "text/plain": [
       "<matplotlib.axes._subplots.AxesSubplot at 0x2a62e99c860>"
      ]
     },
     "execution_count": 55,
     "metadata": {},
     "output_type": "execute_result"
    },
    {
     "data": {
      "image/png": "[encoded data removed]",
      "text/plain": [
       "<Figure size 432x288 with 1 Axes>"
      ]
     },
     "metadata": {
      "needs_background": "light"
     },
     "output_type": "display_data"
    }
   ],
   "source": [
    "# 어떤 댓글이 좋아요를 많이 받는지에 대한 시각화\n",
    "sns.boxplot(x='evaluation', y='like', data=SNTV_DB)"
   ]
  },
  {
   "cell_type": "code",
   "execution_count": 56,
   "metadata": {
    "scrolled": true
   },
   "outputs": [
    {
     "data": {
      "text/plain": [
       "<matplotlib.axes._subplots.AxesSubplot at 0x2a62ea5d748>"
      ]
     },
     "execution_count": 56,
     "metadata": {},
     "output_type": "execute_result"
    },
    {
     "data": {
      "image/png": "[encoded data removed]",
      "text/plain": [
       "<Figure size 432x288 with 1 Axes>"
      ]
     },
     "metadata": {
      "needs_background": "light"
     },
     "output_type": "display_data"
    }
   ],
   "source": [
    "# 어떤 댓글이 좋아요를 많이 받는지에 대한 시각화\n",
    "sns.barplot(x='evaluation', y='like', data=SNTV_DB)"
   ]
  },
  {
   "cell_type": "code",
   "execution_count": 57,
   "metadata": {},
   "outputs": [],
   "source": [
    "# 사람들은 부정적인 댓글에 좋아요를 눌러 힘을 실었다.\n",
    "# 하지만 부정적인 댓글의 편차는 굉장히 심하다."
   ]
  },
  {
   "cell_type": "code",
   "execution_count": 107,
   "metadata": {},
   "outputs": [],
   "source": [
    "# 데이터 전처리\n",
    "\n",
    "# 구두점 제거, 불용어 제거\n",
    "def text_process(text):\n",
    "    nopunc = [char for char in text if char not in string.punctuation]\n",
    "    nopunc = ''.join(nopunc)\n",
    "    result = [word.lower() for word in nopunc.split() if word.lower() not in stopwords.words('english')]\n",
    "    \n",
    "    return result"
   ]
  },
  {
   "cell_type": "code",
   "execution_count": 108,
   "metadata": {},
   "outputs": [
    {
     "name": "stdout",
     "output_type": "stream",
     "text": [
      "['filipinos', 'perspective', 'kind', 'music', 'little', 'new', 'us', 'well', 'name', 'sb19', 'sb', 'means', 'sound', 'break', 'shows', 'advocacy', 'breaking', 'stereotypes', 'usual', 'filipino', 'music', 'also', 'show', 'filipinos', 'could', 'also', 'talent', 'kpop', 'idols', 'theyre', 'also', 'saying', 'still', 'promoting', 'ppop', 'filipino', 'pop', 'music', 'using', 'filipino', 'language', 'lyrics', 'want', 'hear', 'power', 'vocals', 'try', 'listen', 'review', 'debut', 'song', 'tilaluha']\n"
     ]
    }
   ],
   "source": [
    "# 전처리 테스트\n",
    "print(text_process(X[0]))"
   ]
  },
  {
   "cell_type": "code",
   "execution_count": 109,
   "metadata": {
    "scrolled": true
   },
   "outputs": [],
   "source": [
    "# 문서 벡터화 sklearn의 CountVectorizer로 댓글에 대한 bow 생성\n",
    "\n",
    "bow_transformer = CountVectorizer(analyzer=text_process).fit(X)"
   ]
  },
  {
   "cell_type": "code",
   "execution_count": 110,
   "metadata": {},
   "outputs": [
    {
     "data": {
      "text/plain": [
       "3939"
      ]
     },
     "execution_count": 110,
     "metadata": {},
     "output_type": "execute_result"
    }
   ],
   "source": [
    "# bow의 크기\n",
    "len(bow_transformer.vocabulary_)"
   ]
  },
  {
   "cell_type": "code",
   "execution_count": 68,
   "metadata": {},
   "outputs": [
    {
     "data": {
      "text/plain": [
       "'In a Filipino\\'s perspective, this kind of music is a little new to us as well. In their name SB19, SB means Sound Break which shows their advocacy of breaking the stereotypes of what the usual Filipino music is and also to show that Filipinos could also have a talent as to what Kpop Idols have. As to what they\\'re also saying, they are still promoting PPop ( Filipino Pop Music) as they are using Filipino as a language for the lyrics. If you want to hear more of the power of their vocals you can try to listen and review to their debut song  \"Tilaluha\".'"
      ]
     },
     "execution_count": 68,
     "metadata": {},
     "output_type": "execute_result"
    }
   ],
   "source": [
    "# Test\n",
    "test = X[0]\n",
    "test"
   ]
  },
  {
   "cell_type": "code",
   "execution_count": 69,
   "metadata": {},
   "outputs": [
    {
     "name": "stdout",
     "output_type": "stream",
     "text": [
      "  (0, 95)\t1\n",
      "  (0, 140)\t3\n",
      "  (0, 400)\t1\n",
      "  (0, 401)\t1\n",
      "  (0, 648)\t1\n",
      "  (0, 732)\t1\n",
      "  (0, 998)\t3\n",
      "  (0, 1005)\t2\n",
      "  (0, 1221)\t1\n",
      "  (0, 1367)\t1\n",
      "  (0, 1553)\t1\n",
      "  (0, 1580)\t1\n",
      "  (0, 1620)\t1\n",
      "  (0, 1664)\t1\n",
      "  (0, 1673)\t1\n",
      "  (0, 1721)\t1\n",
      "  (0, 1771)\t1\n",
      "  (0, 1887)\t3\n",
      "  (0, 1920)\t1\n",
      "  (0, 1951)\t1\n",
      "  (0, 2138)\t1\n",
      "  (0, 2238)\t1\n",
      "  (0, 2256)\t1\n",
      "  (0, 2259)\t1\n",
      "  (0, 2308)\t1\n",
      "  (0, 2467)\t1\n",
      "  (0, 2537)\t1\n",
      "  (0, 2540)\t1\n",
      "  (0, 2541)\t1\n",
      "  (0, 2626)\t1\n",
      "  (0, 2636)\t1\n",
      "  (0, 2713)\t1\n",
      "  (0, 2741)\t1\n",
      "  (0, 2800)\t1\n",
      "  (0, 2802)\t1\n",
      "  (0, 2926)\t1\n",
      "  (0, 3006)\t1\n",
      "  (0, 3037)\t1\n",
      "  (0, 3117)\t1\n",
      "  (0, 3169)\t1\n",
      "  (0, 3177)\t1\n",
      "  (0, 3180)\t1\n",
      "  (0, 3252)\t1\n",
      "  (0, 3271)\t1\n",
      "  (0, 3293)\t1\n"
     ]
    }
   ],
   "source": [
    "# test 데이터를 bow로 변환\n",
    "bow_test = bow_transformer.transform([test])\n",
    "print(bow_test)"
   ]
  },
  {
   "cell_type": "code",
   "execution_count": 74,
   "metadata": {},
   "outputs": [
    {
     "name": "stdout",
     "output_type": "stream",
     "text": [
      "also\n",
      "filipino\n",
      "music\n"
     ]
    }
   ],
   "source": [
    "# test 댓글에서 빈번하게 발생하는 단어 확인\n",
    "print(bow_transformer.get_feature_names()[140])\n",
    "print(bow_transformer.get_feature_names()[998])\n",
    "print(bow_transformer.get_feature_names()[1887])"
   ]
  },
  {
   "cell_type": "code",
   "execution_count": 111,
   "metadata": {},
   "outputs": [],
   "source": [
    "# X 전체를 bow로 변경\n",
    "X = bow_transformer.transform(X)"
   ]
  },
  {
   "cell_type": "code",
   "execution_count": 112,
   "metadata": {},
   "outputs": [
    {
     "name": "stdout",
     "output_type": "stream",
     "text": [
      "Shape of Sparse Matrix:  (1169, 3939)\n",
      "Amount of Non-Zero occurrences:  15437\n",
      "Density: 0.33524507942009574\n"
     ]
    }
   ],
   "source": [
    "# X 확인\n",
    "print('Shape of Sparse Matrix: ', X.shape)\n",
    "print('Amount of Non-Zero occurrences: ', X.nnz)\n",
    "\n",
    "# 0이 아닌 값의 비율\n",
    "density = (100.0 * X.nnz / (X.shape[0] * X.shape[1]))\n",
    "print('Density: {}'.format((density)))"
   ]
  },
  {
   "cell_type": "code",
   "execution_count": 76,
   "metadata": {},
   "outputs": [],
   "source": [
    "#댓글과 평가(긍/부정) 학습 모델 구축\n",
    "# training data, test data 분할\n",
    "from sklearn.model_selection import train_test_split\n",
    "# 학습 데이터, 테스트 데이터의 비율 80:20\n",
    "X_train, X_test, y_train, y_test = train_test_split(X, y, test_size=0.2, random_state=0)"
   ]
  },
  {
   "cell_type": "code",
   "execution_count": 77,
   "metadata": {},
   "outputs": [
    {
     "data": {
      "text/plain": [
       "MultinomialNB(alpha=1.0, class_prior=None, fit_prior=True)"
      ]
     },
     "execution_count": 77,
     "metadata": {},
     "output_type": "execute_result"
    }
   ],
   "source": [
    "from sklearn.naive_bayes import MultinomialNB\n",
    "# naive bayes 분석을 위한 준비\n",
    "nb = MultinomialNB()\n",
    "nb.fit(X_train, y_train)"
   ]
  },
  {
   "cell_type": "code",
   "execution_count": 78,
   "metadata": {},
   "outputs": [],
   "source": [
    "# 테스트 데이터 예측\n",
    "preds = nb.predict(X_test)"
   ]
  },
  {
   "cell_type": "code",
   "execution_count": 79,
   "metadata": {},
   "outputs": [
    {
     "name": "stdout",
     "output_type": "stream",
     "text": [
      "[[ 21   3   9]\n",
      " [  4  43  25]\n",
      " [  8  19 102]]\n",
      "\n",
      "\n",
      "              precision    recall  f1-score   support\n",
      "\n",
      "    Negative       0.64      0.64      0.64        33\n",
      "    Positive       0.66      0.60      0.63        72\n",
      "          SS       0.75      0.79      0.77       129\n",
      "\n",
      "   micro avg       0.71      0.71      0.71       234\n",
      "   macro avg       0.68      0.67      0.68       234\n",
      "weighted avg       0.71      0.71      0.71       234\n",
      "\n"
     ]
    }
   ],
   "source": [
    "from sklearn.metrics import confusion_matrix, classification_report\n",
    "\n",
    "# 테스트 데이터 예측 결과 확인 \n",
    "# 평가 척도는 3개 (긍정/보통/부정)\n",
    "print(confusion_matrix(y_test, preds))\n",
    "print('\\n')\n",
    "print(classification_report(y_test, preds))"
   ]
  },
  {
   "cell_type": "code",
   "execution_count": 83,
   "metadata": {},
   "outputs": [],
   "source": [
    "# 개별 댓글 분석 (긍정 댓글)\n",
    "test = \"자세한 리뷰 너무 좋았어요 앞으로도 좋은 리뷰 기대할게요\""
   ]
  },
  {
   "cell_type": "code",
   "execution_count": 84,
   "metadata": {},
   "outputs": [
    {
     "data": {
      "text/plain": [
       "'Positive'"
      ]
     },
     "execution_count": 84,
     "metadata": {},
     "output_type": "execute_result"
    }
   ],
   "source": [
    "test_transformed = bow_transformer.transform([test])\n",
    "nb.predict(test_transformed)[0]"
   ]
  },
  {
   "cell_type": "code",
   "execution_count": 113,
   "metadata": {},
   "outputs": [],
   "source": [
    "#댓글과 요청(request) 학습 모델 구축\n",
    "X_train, X_test, z_train, z_test = train_test_split(X, z, test_size=0.2, random_state=0)"
   ]
  },
  {
   "cell_type": "code",
   "execution_count": 114,
   "metadata": {},
   "outputs": [
    {
     "data": {
      "text/plain": [
       "MultinomialNB(alpha=1.0, class_prior=None, fit_prior=True)"
      ]
     },
     "execution_count": 114,
     "metadata": {},
     "output_type": "execute_result"
    }
   ],
   "source": [
    "nb = MultinomialNB()\n",
    "nb.fit(X_train, z_train)"
   ]
  },
  {
   "cell_type": "code",
   "execution_count": 115,
   "metadata": {},
   "outputs": [],
   "source": [
    "preds = nb.predict(X_test)"
   ]
  },
  {
   "cell_type": "code",
   "execution_count": 116,
   "metadata": {},
   "outputs": [
    {
     "name": "stdout",
     "output_type": "stream",
     "text": [
      "[[103  32]\n",
      " [  6  93]]\n",
      "\n",
      "\n",
      "              precision    recall  f1-score   support\n",
      "\n",
      " Not-Request       0.94      0.76      0.84       135\n",
      "     Request       0.74      0.94      0.83        99\n",
      "\n",
      "   micro avg       0.84      0.84      0.84       234\n",
      "   macro avg       0.84      0.85      0.84       234\n",
      "weighted avg       0.86      0.84      0.84       234\n",
      "\n"
     ]
    }
   ],
   "source": [
    "print(confusion_matrix(z_test, preds))\n",
    "print('\\n')\n",
    "print(classification_report(z_test, preds))"
   ]
  },
  {
   "cell_type": "code",
   "execution_count": 117,
   "metadata": {},
   "outputs": [],
   "source": [
    "test = \"please react the song Rise up,cover by Morissete Amon\""
   ]
  },
  {
   "cell_type": "code",
   "execution_count": 118,
   "metadata": {},
   "outputs": [
    {
     "data": {
      "text/plain": [
       "'Request'"
      ]
     },
     "execution_count": 118,
     "metadata": {},
     "output_type": "execute_result"
    }
   ],
   "source": [
    "test_transformed = bow_transformer.transform([test])\n",
    "nb.predict(test_transformed)[0]"
   ]
  },
  {
   "cell_type": "markdown",
   "metadata": {},
   "source": [
    "# 신규 댓글 데이터 Co-ter 분류시도"
   ]
  },
  {
   "cell_type": "code",
   "execution_count": 119,
   "metadata": {},
   "outputs": [
    {
     "data": {
      "text/html": [
       "<div>\n",
       "<style scoped>\n",
       "    .dataframe tbody tr th:only-of-type {\n",
       "        vertical-align: middle;\n",
       "    }\n",
       "\n",
       "    .dataframe tbody tr th {\n",
       "        vertical-align: top;\n",
       "    }\n",
       "\n",
       "    .dataframe thead th {\n",
       "        text-align: right;\n",
       "    }\n",
       "</style>\n",
       "<table border=\"1\" class=\"dataframe\">\n",
       "  <thead>\n",
       "    <tr style=\"text-align: right;\">\n",
       "      <th></th>\n",
       "      <th>id</th>\n",
       "      <th>comment</th>\n",
       "      <th>like</th>\n",
       "      <th>text length</th>\n",
       "    </tr>\n",
       "  </thead>\n",
       "  <tbody>\n",
       "    <tr>\n",
       "      <th>0</th>\n",
       "      <td>javie rr</td>\n",
       "      <td>Morisette was sick during her performance here...</td>\n",
       "      <td>165</td>\n",
       "      <td>154</td>\n",
       "    </tr>\n",
       "    <tr>\n",
       "      <th>1</th>\n",
       "      <td>ALMI SaiburraboC</td>\n",
       "      <td>Morissette Amon aka \"Asia's Phoenix\" from the ...</td>\n",
       "      <td>42</td>\n",
       "      <td>1889</td>\n",
       "    </tr>\n",
       "    <tr>\n",
       "      <th>3</th>\n",
       "      <td>Kayenne Aniraloc</td>\n",
       "      <td>Finally ive been waiting for your reaction .. ...</td>\n",
       "      <td>157</td>\n",
       "      <td>58</td>\n",
       "    </tr>\n",
       "    <tr>\n",
       "      <th>4</th>\n",
       "      <td>Queen Rose</td>\n",
       "      <td>His reaction was so cute when he realized that...</td>\n",
       "      <td>23</td>\n",
       "      <td>71</td>\n",
       "    </tr>\n",
       "    <tr>\n",
       "      <th>5</th>\n",
       "      <td>Ycii Kim</td>\n",
       "      <td>Pls. React to KZ TANDINGAN singing \"Rolling in...</td>\n",
       "      <td>105</td>\n",
       "      <td>57</td>\n",
       "    </tr>\n",
       "  </tbody>\n",
       "</table>\n",
       "</div>"
      ],
      "text/plain": [
       "                 id                                            comment  like  \\\n",
       "0          javie rr  Morisette was sick during her performance here...   165   \n",
       "1  ALMI SaiburraboC  Morissette Amon aka \"Asia's Phoenix\" from the ...    42   \n",
       "3  Kayenne Aniraloc  Finally ive been waiting for your reaction .. ...   157   \n",
       "4        Queen Rose  His reaction was so cute when he realized that...    23   \n",
       "5          Ycii Kim  Pls. React to KZ TANDINGAN singing \"Rolling in...   105   \n",
       "\n",
       "   text length  \n",
       "0          154  \n",
       "1         1889  \n",
       "3           58  \n",
       "4           71  \n",
       "5           57  "
      ]
     },
     "execution_count": 119,
     "metadata": {},
     "output_type": "execute_result"
    }
   ],
   "source": [
    "# 댓글 문서 테스트 로드, 첫 행은 헤더\n",
    "result_set = pd.read_csv('test.csv', header=0, encoding='euc-kr')\n",
    "result_set = result_set.dropna(axis=0)\n",
    "\n",
    "result_set.head()"
   ]
  },
  {
   "cell_type": "code",
   "execution_count": 120,
   "metadata": {},
   "outputs": [],
   "source": [
    "#댓글 추출\n",
    "result = result_set['comment']"
   ]
  },
  {
   "cell_type": "code",
   "execution_count": 121,
   "metadata": {},
   "outputs": [],
   "source": [
    "#댓글 전체에 대한 추측을 데이터로 DataFrame에 Predict 열 추가\n",
    "\n",
    "p_list = []\n",
    "\n",
    "for c in result :\n",
    "    result_transformed = bow_transformer.transform([c])\n",
    "    p = nb.predict(result_transformed)[0]\n",
    "    p_list.append(p)\n",
    "\n",
    "result_set['predict'] = p_list"
   ]
  },
  {
   "cell_type": "code",
   "execution_count": 122,
   "metadata": {},
   "outputs": [
    {
     "data": {
      "text/plain": [
       "0      Not-Request\n",
       "1          Request\n",
       "3          Request\n",
       "4      Not-Request\n",
       "5          Request\n",
       "6      Not-Request\n",
       "7          Request\n",
       "8          Request\n",
       "9          Request\n",
       "10         Request\n",
       "11     Not-Request\n",
       "12         Request\n",
       "13         Request\n",
       "14     Not-Request\n",
       "15         Request\n",
       "16     Not-Request\n",
       "17         Request\n",
       "18         Request\n",
       "19     Not-Request\n",
       "20         Request\n",
       "21         Request\n",
       "22     Not-Request\n",
       "23     Not-Request\n",
       "24     Not-Request\n",
       "25     Not-Request\n",
       "26         Request\n",
       "27     Not-Request\n",
       "28     Not-Request\n",
       "29         Request\n",
       "30         Request\n",
       "          ...     \n",
       "396    Not-Request\n",
       "397        Request\n",
       "398    Not-Request\n",
       "399    Not-Request\n",
       "400        Request\n",
       "401        Request\n",
       "402    Not-Request\n",
       "403    Not-Request\n",
       "404    Not-Request\n",
       "405    Not-Request\n",
       "406        Request\n",
       "407        Request\n",
       "408    Not-Request\n",
       "409    Not-Request\n",
       "410        Request\n",
       "411    Not-Request\n",
       "412    Not-Request\n",
       "413        Request\n",
       "414    Not-Request\n",
       "415    Not-Request\n",
       "416    Not-Request\n",
       "417    Not-Request\n",
       "418    Not-Request\n",
       "419    Not-Request\n",
       "420    Not-Request\n",
       "421        Request\n",
       "422    Not-Request\n",
       "423    Not-Request\n",
       "424        Request\n",
       "425        Request\n",
       "Name: predict, Length: 418, dtype: object"
      ]
     },
     "execution_count": 122,
     "metadata": {},
     "output_type": "execute_result"
    }
   ],
   "source": [
    "#열 추가 확인\n",
    "result_set['predict']"
   ]
  },
  {
   "cell_type": "code",
   "execution_count": 125,
   "metadata": {},
   "outputs": [
    {
     "name": "stdout",
     "output_type": "stream",
     "text": [
      "                                               comment      predict\n",
      "0    Morisette was sick during her performance here...  Not-Request\n",
      "1    Morissette Amon aka \"Asia's Phoenix\" from the ...      Request\n",
      "3    Finally ive been waiting for your reaction .. ...      Request\n",
      "4    His reaction was so cute when he realized that...  Not-Request\n",
      "5    Pls. React to KZ TANDINGAN singing \"Rolling in...      Request\n",
      "6           She's still sick when she performed this..  Not-Request\n",
      "7    Please react next to her first Asia's Song Fes...      Request\n",
      "8    Hello oppa,,please react to Kris Lawrence\"eyes...      Request\n",
      "9    She is just the best and not one of the best. ...      Request\n",
      "10   Is it u Pujong and just change it Something Ne...      Request\n",
      "11   I feel bad when he learns what his name mean i...  Not-Request\n",
      "12   That \"Morissette please call me..salamat po..A...      Request\n",
      "13   She sang (hangeul(?)) Korean language because ...      Request\n",
      "14   LOL I WAS JUST WATCHING UR PREVIOUS REVIEW ON ...  Not-Request\n",
      "15   Try reacting to another Filipino performer... ...      Request\n",
      "16   Haha! I love how you suddenly came alive when ...  Not-Request\n",
      "17         please react to KZ Tandingan singing Royal       Request\n",
      "18   ASF 2019 will be on October,i hope she will be...      Request\n",
      "19   She's busy in her international project I thin...  Not-Request\n",
      "20   Pls do a reaction on this one NEVER TOO FAR CO...      Request\n",
      "21   You should watch A  whole new world cover by a...      Request\n",
      "22   idk why ur face reminds me of tweety of bird h...  Not-Request\n",
      "23   His enthusiasm and excitement is so cute  you ...  Not-Request\n",
      "24                                    6:16 he felt it.  Not-Request\n",
      "25   howoooow....im hoping too that she'll sing aga...  Not-Request\n",
      "26   please react to kz tandingan cover\" rolling in...      Request\n",
      "27   감사합니다 형! I am a Filipino who is living here in...  Not-Request\n",
      "28   i really do hope that she would be invited to ...  Not-Request\n",
      "29          KZ TANDINGAN'S Rolling in the Deep please.      Request\n",
      "30   PLEASE REACT TO DARYL ONG COVERS \"THINKING OUT...      Request\n",
      "..                                                 ...          ...\n",
      "396          what the heck.. she gained so much weight  Not-Request\n",
      "397  I think she was a bit sick that time. But then...      Request\n",
      "398                                   Maja nomu daebak  Not-Request\n",
      "399                                      Salamat po...  Not-Request\n",
      "400  There is filipina singer who cover a korean so...      Request\n",
      "401   Please react to marcelito pomoy and kz tandingan      Request\n",
      "402  This song was recommended by her korean friend...  Not-Request\n",
      "403                                  Akin ka na rang!   Not-Request\n",
      "404                                       자막을 넣어 나를 고용  Not-Request\n",
      "405                                     SALAMAT DIN PO  Not-Request\n",
      "406    And also pangarap ko'y ibigin by morrisete amon      Request\n",
      "407                                          Hi taetae      Request\n",
      "408           내가 살다살다 외국인이부른 한국노래에 울컥할줄은 몰랐다.대 단 하 다.!  Not-Request\n",
      "409                                    What is taetae?  Not-Request\n",
      "410  Hello!!  please have a Reaction of \"Streets of...      Request\n",
      "411  Could it be possible that Akin Ka Na Lang of M...  Not-Request\n",
      "412                      Kinikilig si kuya... kyupta..  Not-Request\n",
      "413            Try to watch morrissete Amon vice ganda      Request\n",
      "414  You are so funny and cute..Hang.sang DAEBAK..j...  Not-Request\n",
      "415        https://www.youtube.com/watch?v=kMZNIMFtT-8  Not-Request\n",
      "416         So you are tae tae..Hmmmmmmmmmm.. Poo Poo?  Not-Request\n",
      "417             Cute reaction...new subscriber here :D  Not-Request\n",
      "418                                Akin kara rang.....  Not-Request\n",
      "419  Waaaaaaaaahhh you're a vocal coach of Woojin a...  Not-Request\n",
      "420     English sub here plss.. So we could understand  Not-Request\n",
      "421  Kansammida!!!   Please react if morissette amo...      Request\n",
      "422  What   most people including those who listen ...  Not-Request\n",
      "423  Okay the english subtitle is a lie he keep spe...  Not-Request\n",
      "424  Please watch di mapaliwanag by morisette oppa ...      Request\n",
      "425  Please watch di mapaliwanag by morisette oppa ...      Request\n",
      "\n",
      "[418 rows x 2 columns]\n"
     ]
    }
   ],
   "source": [
    "#댓글과 예측 데이터 함께 출력\n",
    "print(result_set[[\"comment\",\"predict\"]])"
   ]
  },
  {
   "cell_type": "code",
   "execution_count": 126,
   "metadata": {},
   "outputs": [
    {
     "data": {
      "text/html": [
       "<div>\n",
       "<style scoped>\n",
       "    .dataframe tbody tr th:only-of-type {\n",
       "        vertical-align: middle;\n",
       "    }\n",
       "\n",
       "    .dataframe tbody tr th {\n",
       "        vertical-align: top;\n",
       "    }\n",
       "\n",
       "    .dataframe thead th {\n",
       "        text-align: right;\n",
       "    }\n",
       "</style>\n",
       "<table border=\"1\" class=\"dataframe\">\n",
       "  <thead>\n",
       "    <tr style=\"text-align: right;\">\n",
       "      <th></th>\n",
       "      <th>id</th>\n",
       "      <th>comment</th>\n",
       "      <th>like</th>\n",
       "      <th>text length</th>\n",
       "      <th>predict</th>\n",
       "    </tr>\n",
       "  </thead>\n",
       "  <tbody>\n",
       "    <tr>\n",
       "      <th>0</th>\n",
       "      <td>javie rr</td>\n",
       "      <td>Morisette was sick during her performance here...</td>\n",
       "      <td>165</td>\n",
       "      <td>154</td>\n",
       "      <td>Not-Request</td>\n",
       "    </tr>\n",
       "    <tr>\n",
       "      <th>1</th>\n",
       "      <td>ALMI SaiburraboC</td>\n",
       "      <td>Morissette Amon aka \"Asia's Phoenix\" from the ...</td>\n",
       "      <td>42</td>\n",
       "      <td>1889</td>\n",
       "      <td>Request</td>\n",
       "    </tr>\n",
       "    <tr>\n",
       "      <th>3</th>\n",
       "      <td>Kayenne Aniraloc</td>\n",
       "      <td>Finally ive been waiting for your reaction .. ...</td>\n",
       "      <td>157</td>\n",
       "      <td>58</td>\n",
       "      <td>Request</td>\n",
       "    </tr>\n",
       "    <tr>\n",
       "      <th>4</th>\n",
       "      <td>Queen Rose</td>\n",
       "      <td>His reaction was so cute when he realized that...</td>\n",
       "      <td>23</td>\n",
       "      <td>71</td>\n",
       "      <td>Not-Request</td>\n",
       "    </tr>\n",
       "    <tr>\n",
       "      <th>5</th>\n",
       "      <td>Ycii Kim</td>\n",
       "      <td>Pls. React to KZ TANDINGAN singing \"Rolling in...</td>\n",
       "      <td>105</td>\n",
       "      <td>57</td>\n",
       "      <td>Request</td>\n",
       "    </tr>\n",
       "  </tbody>\n",
       "</table>\n",
       "</div>"
      ],
      "text/plain": [
       "                 id                                            comment  like  \\\n",
       "0          javie rr  Morisette was sick during her performance here...   165   \n",
       "1  ALMI SaiburraboC  Morissette Amon aka \"Asia's Phoenix\" from the ...    42   \n",
       "3  Kayenne Aniraloc  Finally ive been waiting for your reaction .. ...   157   \n",
       "4        Queen Rose  His reaction was so cute when he realized that...    23   \n",
       "5          Ycii Kim  Pls. React to KZ TANDINGAN singing \"Rolling in...   105   \n",
       "\n",
       "   text length      predict  \n",
       "0          154  Not-Request  \n",
       "1         1889      Request  \n",
       "3           58      Request  \n",
       "4           71  Not-Request  \n",
       "5           57      Request  "
      ]
     },
     "execution_count": 126,
     "metadata": {},
     "output_type": "execute_result"
    }
   ],
   "source": [
    "# 목표 달성 확인\n",
    "result_set.head()"
   ]
  },
  {
   "cell_type": "code",
   "execution_count": null,
   "metadata": {},
   "outputs": [],
   "source": []
  }
 ],
 "metadata": {
  "kernelspec": {
   "display_name": "Python 3",
   "language": "python",
   "name": "python3"
  },
  "language_info": {
   "codemirror_mode": {
    "name": "ipython",
    "version": 3
   },
   "file_extension": ".py",
   "mimetype": "text/x-python",
   "name": "python",
   "nbconvert_exporter": "python",
   "pygments_lexer": "ipython3",
   "version": "3.7.0"
  }
 },
 "nbformat": 4,
 "nbformat_minor": 2
}
